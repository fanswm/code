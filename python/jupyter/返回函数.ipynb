{
 "cells": [
  {
   "cell_type": "code",
   "execution_count": 3,
   "metadata": {},
   "outputs": [
    {
     "name": "stdout",
     "output_type": "stream",
     "text": [
      "1 2 3 4 5\n",
      "测试通过!\n"
     ]
    }
   ],
   "source": [
    "def createCounter():\n",
    "    n = 0\n",
    "    def counter():\n",
    "        nonlocal n\n",
    "        n += 1\n",
    "        return n\n",
    "    return counter\n",
    "\n",
    "counterA = createCounter()\n",
    "print(counterA(), counterA(), counterA(), counterA(), counterA()) # 1 2 3 4 5\n",
    "counterB = createCounter()\n",
    "if [counterB(), counterB(), counterB(), counterB()] == [1, 2, 3, 4]:\n",
    "    print('测试通过!')\n",
    "else:\n",
    "    print('测试失败!')"
   ]
  },
  {
   "cell_type": "code",
   "execution_count": null,
   "metadata": {},
   "outputs": [],
   "source": []
  }
 ],
 "metadata": {
  "kernelspec": {
   "display_name": "Python 3",
   "language": "python",
   "name": "python3"
  },
  "language_info": {
   "codemirror_mode": {
    "name": "ipython",
    "version": 3
   },
   "file_extension": ".py",
   "mimetype": "text/x-python",
   "name": "python",
   "nbconvert_exporter": "python",
   "pygments_lexer": "ipython3",
   "version": "3.6.7"
  }
 },
 "nbformat": 4,
 "nbformat_minor": 2
}
