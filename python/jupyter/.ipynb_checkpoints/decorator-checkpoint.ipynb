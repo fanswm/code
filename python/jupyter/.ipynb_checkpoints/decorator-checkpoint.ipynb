{
 "cells": [
  {
   "cell_type": "code",
   "execution_count": 5,
   "metadata": {},
   "outputs": [
    {
     "name": "stdout",
     "output_type": "stream",
     "text": [
      "fast executed in 0.026464462280273438 ms\n",
      "slow executed in 0.022172927856445312 ms\n",
      "f=33\n",
      "s=7986\n"
     ]
    }
   ],
   "source": [
    "# -*- coding: utf-8 -*-\n",
    "import time, functools\n",
    "def metric(func):\n",
    "    start_time=time.time()\n",
    "    @functools.wraps(func)\n",
    "    def warpper(*args, **kw):\n",
    "        return func(*args, **kw)\n",
    "    end_time=time.time()\n",
    "    exectime=(end_time-start_time)*1000\n",
    "    print('%s executed in %s ms' % (func.__name__, exectime))\n",
    "    return warpper\n",
    "\n",
    "# 测试\n",
    "@metric\n",
    "def fast(x, y):\n",
    "    time.sleep(0.0012)\n",
    "    return x + y;\n",
    "\n",
    "@metric\n",
    "def slow(x, y, z):\n",
    "    time.sleep(0.1234)\n",
    "    return x * y * z;\n",
    "\n",
    "f = fast(11, 22)\n",
    "print('f=%s' % f)\n",
    "s = slow(11, 22, 33)\n",
    "print('s=%s' %s)\n",
    "if f != 33:\n",
    "    print('测试失败!')\n",
    "elif s != 7986:\n",
    "    print('测试失败!')"
   ]
  },
  {
   "cell_type": "code",
   "execution_count": 6,
   "metadata": {},
   "outputs": [
    {
     "name": "stdout",
     "output_type": "stream",
     "text": [
      "begin call test1\n",
      "Sun Jun  9 20:40:22 2019 execute test1()\n",
      "test1 calling\n",
      "end call test1\n",
      "begin call test2\n",
      "Sun Jun  9 20:40:22 2019 call test2()\n",
      "test2 calling\n",
      "end call test2\n"
     ]
    }
   ],
   "source": [
    "# -*- coding: utf-8 -*-\n",
    "\n",
    "import time, functools\n",
    "def log(text='call'):\n",
    "    def decorator(func):\n",
    "        @functools.wraps(func)\n",
    "        def wrapper(*args, **kw):\n",
    "            print('begin call %s' % (func.__name__))\n",
    "            print('%s %s %s()' % (time.asctime(time.localtime()), text, func.__name__))\n",
    "            fc = func(*args, **kw)\n",
    "            print('end call %s' % (func.__name__))\n",
    "            return fc\n",
    "        return wrapper\n",
    "    return decorator\n",
    "\n",
    "@log('execute')\n",
    "def test1():\n",
    "   print('test1 calling')\n",
    "\n",
    "@log()\n",
    "def test2():\n",
    "   print('test2 calling')\n",
    "\n",
    "test1()\n",
    "test2()"
   ]
  },
  {
   "cell_type": "code",
   "execution_count": null,
   "metadata": {},
   "outputs": [],
   "source": []
  }
 ],
 "metadata": {
  "kernelspec": {
   "display_name": "Python 3",
   "language": "python",
   "name": "python3"
  },
  "language_info": {
   "codemirror_mode": {
    "name": "ipython",
    "version": 3
   },
   "file_extension": ".py",
   "mimetype": "text/x-python",
   "name": "python",
   "nbconvert_exporter": "python",
   "pygments_lexer": "ipython3",
   "version": "3.7.3"
  }
 },
 "nbformat": 4,
 "nbformat_minor": 2
}
